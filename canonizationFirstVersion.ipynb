{
 "cells": [
  {
   "cell_type": "code",
   "execution_count": null,
   "metadata": {},
   "outputs": [],
   "source": [
    "import itertools\n",
    "import numpy as np"
   ]
  },
  {
   "cell_type": "code",
   "execution_count": null,
   "metadata": {},
   "outputs": [],
   "source": []
  },
  {
   "cell_type": "code",
   "execution_count": null,
   "metadata": {},
   "outputs": [],
   "source": []
  },
  {
   "cell_type": "code",
   "execution_count": 2,
   "metadata": {},
   "outputs": [
    {
     "name": "stdout",
     "output_type": "stream",
     "text": [
      "программа выводит:\n",
      "0 1 1 2 2 4 \n",
      "1 1 3 2 2 4 \n",
      "1 1 3 2 2 4 \n",
      "1 1 3 2 2 4 \n",
      "2 1 4 0 2 4 \n",
      "матрица-строка: 011224113224113224113224214024\n"
     ]
    }
   ],
   "source": [
    "\n",
    "def matrix_print(metainfo):\n",
    "    NROWS, NCOLS, m = metainfo[0], metainfo[1], metainfo[2]\n",
    "    for i in range(NROWS):\n",
    "        for j in range(NCOLS):\n",
    "            print(m[i][j], end=' ')\n",
    "        print('')\n",
    "        \n",
    "def matrix_str_print(metainfo):\n",
    "    NROWS, NCOLS, m = metainfo[0], metainfo[1], metainfo[2]\n",
    "    for i in range(NROWS):\n",
    "        for j in range(NCOLS):\n",
    "            print(m[i*NCOLS+j], end=' ')\n",
    "        print('')\n",
    "\n",
    "def canonicalize(NROWS, NCOLS, m):\n",
    "    possibilities = set()\n",
    "    for rows in itertools.permutations(range(NROWS)):\n",
    "        for cols in itertools.permutations(range(NCOLS)):\n",
    "            p = ''.join(m[r*NCOLS+c] for r in rows for c in cols)\n",
    "            possibilities.add(p)\n",
    "#     for p in sorted(possibilities):\n",
    "#         print(p)\n",
    "    return [NROWS, NCOLS, min(possibilities)]\n",
    "\n",
    "\n",
    "\n",
    "\n",
    "############################################################ Ввод матрицы консольно\n",
    "# print('количество строк:')\n",
    "# row_count = int(input())\n",
    "# print('количество столбцов:')\n",
    "# col_count = int(input())\n",
    "# print('вводим матрицу:')\n",
    "# A = []\n",
    "# for i in range(row_count):\n",
    "#     A.append(list(map(int, input().split())))\n",
    "############################################################\n",
    "\n",
    "############################################################ Задание матрицы\n",
    "B = [[4, 0, 2, 2, 4, 1],\n",
    "     [1, 2, 0, 2, 4, 1],\n",
    "     [3, 2, 1, 2, 4, 1],\n",
    "     [3, 2, 1, 2, 4, 1],\n",
    "     [3, 2, 1, 2, 4, 1]]\n",
    "A = B\n",
    "row_count = 5\n",
    "col_count = 6\n",
    "############################################################\n",
    "\n",
    "############################################################ Создаем матрицу-строку\n",
    "string_matrix = ''\n",
    "for i in range(row_count):\n",
    "    for j in range(col_count):\n",
    "        string_matrix += str(A[i][j])\n",
    "############################################################ \n",
    "\n",
    "minm = canonicalize(row_count, col_count, string_matrix)\n",
    "print('программа выводит:')\n",
    "# matrix_print([row_count, col_count, A])\n",
    "matrix_str_print(minm)\n",
    "print('матрица-строка:', minm[2])\n"
   ]
  }
 ],
 "metadata": {
  "kernelspec": {
   "display_name": "Python 3",
   "language": "python",
   "name": "python3"
  },
  "language_info": {
   "codemirror_mode": {
    "name": "ipython",
    "version": 3
   },
   "file_extension": ".py",
   "mimetype": "text/x-python",
   "name": "python",
   "nbconvert_exporter": "python",
   "pygments_lexer": "ipython3",
   "version": "3.8.5"
  }
 },
 "nbformat": 4,
 "nbformat_minor": 4
}
