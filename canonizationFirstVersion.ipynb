{
 "cells": [
  {
   "cell_type": "code",
   "execution_count": 2,
   "metadata": {},
   "outputs": [
    {
     "name": "stdout",
     "output_type": "stream",
     "text": [
      "1.19.2\n"
     ]
    }
   ],
   "source": [
    "import itertools\n",
    "import numpy as np\n",
    "import collections\n",
    "print(np.__version__)"
   ]
  },
  {
   "cell_type": "code",
   "execution_count": 15,
   "metadata": {},
   "outputs": [
    {
     "name": "stdout",
     "output_type": "stream",
     "text": [
      "программа выводит:\n",
      "0 1 1 2 2 4 \n",
      "1 1 3 2 2 4 \n",
      "1 1 3 2 2 4 \n",
      "1 1 3 2 2 4 \n",
      "2 1 4 0 2 4 \n",
      "матрица-строка: 011224113224113224113224214024\n"
     ]
    }
   ],
   "source": [
    "\n",
    "def matrix_print(metainfo):\n",
    "    NROWS, NCOLS, m = metainfo[0], metainfo[1], metainfo[2]\n",
    "    for i in range(NROWS):\n",
    "        for j in range(NCOLS):\n",
    "            print(m[i][j], end=' ')\n",
    "        print('')\n",
    "        \n",
    "def matrix_str_print(metainfo):\n",
    "    NROWS, NCOLS, m = metainfo[0], metainfo[1], metainfo[2]\n",
    "    for i in range(NROWS):\n",
    "        for j in range(NCOLS):\n",
    "            print(m[i*NCOLS+j], end=' ')\n",
    "        print('')\n",
    "\n",
    "def canonicalize(NROWS, NCOLS, m):\n",
    "    possibilities = set()\n",
    "    for rows in itertools.permutations(range(NROWS)):\n",
    "        for cols in itertools.permutations(range(NCOLS)):\n",
    "            p = ''.join(m[r*NCOLS+c] for r in rows for c in cols)\n",
    "            possibilities.add(p)\n",
    "#     for p in sorted(possibilities):\n",
    "#         print(p)\n",
    "    return [NROWS, NCOLS, min(possibilities)]\n",
    "\n",
    "\n",
    "\n",
    "\n",
    "############################################################ Ввод матрицы консольно\n",
    "# print('количество строк:')\n",
    "# row_count = int(input())\n",
    "# print('количество столбцов:')\n",
    "# col_count = int(input())\n",
    "# print('вводим матрицу:')\n",
    "# A = []\n",
    "# for i in range(row_count):\n",
    "#     A.append(list(map(int, input().split())))\n",
    "############################################################\n",
    "\n",
    "############################################################ Задание матрицы\n",
    "B = [[4, 0, 2, 2, 4, 1],\n",
    "     [1, 2, 0, 2, 4, 1],\n",
    "     [3, 2, 1, 2, 4, 1],\n",
    "     [3, 2, 1, 2, 4, 1],\n",
    "     [3, 2, 1, 2, 4, 1]]\n",
    "A = B\n",
    "row_count = 5\n",
    "col_count = 6\n",
    "############################################################\n",
    "\n",
    "############################################################ Создаем матрицу-строку\n",
    "string_matrix = ''\n",
    "for i in range(row_count):\n",
    "    for j in range(col_count):\n",
    "        string_matrix += str(A[i][j])\n",
    "############################################################ \n",
    "\n",
    "minm = canonicalize(row_count, col_count, string_matrix)\n",
    "print('программа выводит:')\n",
    "# matrix_print([row_count, col_count, A])\n",
    "matrix_str_print(minm)\n",
    "print('матрица-строка:', minm[2])\n"
   ]
  },
  {
   "cell_type": "code",
   "execution_count": 26,
   "metadata": {},
   "outputs": [
    {
     "name": "stdout",
     "output_type": "stream",
     "text": [
      "rows_unordered_cols_ordered_separately:\n",
      " [[1 1 1 6 6]\n",
      " [0 1 2 3 5]\n",
      " [0 3 3 4 6]\n",
      " [0 3 3 4 6]\n",
      " [0 1 2 3 5]\n",
      " [1 1 2 6 6]]\n",
      "<class 'numpy.int64'>\n",
      "str_rows_unordered_list ['11166', '01235', '03346', '03346', '01235', '11266']\n",
      "rows_order:\n",
      " [1 4 2 3 0 5]\n",
      "<class 'numpy.int64'>\n",
      "rows_ordered_cols_separately_ordered(imaging for group division):\n",
      " [[0 1 2 3 5]\n",
      " [0 1 2 3 5]\n",
      " [0 3 3 4 6]\n",
      " [0 3 3 4 6]\n",
      " [1 1 1 6 6]\n",
      " [1 1 2 6 6]]\n",
      "------------------------------------------------------------------\n",
      "rows_ordered:\n",
      " [[1 2 5 3 0]\n",
      " [5 2 3 1 0]\n",
      " [6 3 4 3 0]\n",
      " [6 4 3 3 0]\n",
      " [6 1 6 1 1]\n",
      " [6 1 6 1 2]]\n",
      "<class 'numpy.int64'>\n"
     ]
    }
   ],
   "source": [
    "a = np.array([[6, 1, 6, 1, 1],\n",
    "              [1, 2, 5, 3, 0],\n",
    "              [6, 3, 4, 3, 0],\n",
    "              [6, 4, 3, 3, 0],\n",
    "              [5, 2, 3, 1, 0],\n",
    "              [6, 1, 6, 1, 2]])\n",
    "rows_unordered_cols_ordered_separately = np.sort(a) # ordered columns in each row separately, but no rows\n",
    "print('rows_unordered_cols_ordered_separately:\\n', rows_unordered_cols_ordered_separately)\n",
    "print(type(rows_unordered_cols_ordered_separately[0,0]))\n",
    "\n",
    "\n",
    "str_rows_unordered_list = []\n",
    "for i in range(rows_unordered_cols_ordered_separately.shape[0]):\n",
    "    str_rows_unordered_list.append(''.join(str(e) for e in rows_unordered_cols_ordered_separately[i]))\n",
    "print('str_rows_unordered_list', str_rows_unordered_list)\n",
    "\n",
    "rows_order = np.argsort(str_rows_unordered_list)\n",
    "rows_ordered = np.empty((0, a.shape[1]), int)\n",
    "\n",
    "rows_ordered_cols_separately_ordered = np.empty((0, a.shape[1]), int)\n",
    "\n",
    "\n",
    "for i in rows_order:\n",
    "    rows_ordered = np.concatenate((rows_ordered, [a[i]]))\n",
    "    rows_ordered_cols_separately_ordered = np.vstack((rows_ordered_cols_separately_ordered,\n",
    "                                                           [rows_unordered_cols_ordered_separately[i]]))\n",
    "\n",
    "print('rows_order:\\n', rows_order)\n",
    "print(type(rows_ordered_cols_separately_ordered[0,0]))\n",
    "print('rows_ordered_cols_separately_ordered(imaging for group division):\\n', rows_ordered_cols_separately_ordered)\n",
    "print('------------------------------------------------------------------')\n",
    "print('rows_ordered:\\n', rows_ordered)\n",
    "print(type(rows_ordered[0][0]))\n",
    "# c = np.sort(b, axis= 0)\n",
    "# print(c)"
   ]
  },
  {
   "cell_type": "code",
   "execution_count": 24,
   "metadata": {},
   "outputs": [
    {
     "name": "stdout",
     "output_type": "stream",
     "text": [
      "<class 'collections.Counter'>\n",
      "rows_group_division:\n",
      " [2, 2, 1, 1]\n"
     ]
    }
   ],
   "source": [
    "groups_tmp = collections.Counter()\n",
    "print(type(groups_tmp))\n",
    "rows_group_division = []\n",
    "for row_index in rows_order:\n",
    "    groups_tmp[str_rows_unordered_list[row_index]] += 1\n",
    "    if (groups_tmp[str_rows_unordered_list[row_index]] == 1):\n",
    "        rows_group_division.append(1)\n",
    "    else:\n",
    "        rows_group_division[-1] += 1\n",
    "print('rows_group_division:\\n', rows_group_division)"
   ]
  },
  {
   "cell_type": "code",
   "execution_count": 40,
   "metadata": {},
   "outputs": [
    {
     "name": "stdout",
     "output_type": "stream",
     "text": [
      "rows_ordered_separately:\n",
      " [[1 1 3 1 0]\n",
      " [5 1 3 1 0]\n",
      " [6 2 4 1 0]\n",
      " [6 2 5 3 0]\n",
      " [6 3 6 3 1]\n",
      " [6 4 6 3 2]]\n",
      "str_cols_unordered_list:  ['156666', '112234', '334566', '111333', '000012']\n",
      "[4 3 1 0 2]\n",
      "cols_ordered_rows_separately_ordered(imaging for group division):\n",
      " [[0 1 1 1 3]\n",
      " [0 1 1 5 3]\n",
      " [0 1 2 6 4]\n",
      " [0 3 2 6 5]\n",
      " [1 3 3 6 6]\n",
      " [2 3 4 6 6]]\n",
      "------------------------------------------------------------------\n",
      "cols_ordered:\n",
      " [[0 3 2 1 5]\n",
      " [0 1 2 5 3]\n",
      " [0 3 3 6 4]\n",
      " [0 3 4 6 3]\n",
      " [1 1 1 6 6]\n",
      " [2 1 1 6 6]]\n"
     ]
    }
   ],
   "source": [
    "rows_ordered_separately = np.sort(rows_ordered, axis = 0) # ordered columns in each row separately, but no rows\n",
    "print('rows_ordered_separately:\\n', rows_ordered_separately)\n",
    "str_cols_unordered_list = []\n",
    "for i in range(rows_ordered_separately.shape[1]):\n",
    "    str_cols_unordered_list.append(''.join(str(col) for col in rows_ordered_separately[:, i]))\n",
    "\n",
    "print('str_cols_unordered_list: ', str_cols_unordered_list)\n",
    "\n",
    "cols_order = np.argsort(str_cols_unordered_list)\n",
    "print(cols_order)\n",
    "\n",
    "cols_ordered = np.empty((a.shape[0], 0), int) # it will really cols_ordered_rows_ordered\n",
    "cols_ordered_rows_separately_ordered = np.empty((a.shape[0], 0), int)\n",
    "for i in cols_order:\n",
    "    cols_ordered = np.concatenate((cols_ordered, rows_ordered[:, i:i+1]), axis=1)\n",
    "    cols_ordered_rows_separately_ordered = np.concatenate((cols_ordered_rows_separately_ordered,\n",
    "                                                           rows_ordered_separately[:, i:i+1]), axis=1)\n",
    "print('cols_ordered_rows_separately_ordered(imaging for group division):\\n', cols_ordered_rows_separately_ordered)\n",
    "print('------------------------------------------------------------------')\n",
    "print('cols_ordered_rows_ordered:\\n', cols_ordered)"
   ]
  },
  {
   "cell_type": "code",
   "execution_count": 41,
   "metadata": {},
   "outputs": [
    {
     "name": "stdout",
     "output_type": "stream",
     "text": [
      "<class 'collections.Counter'>\n",
      "cols_group_division:\n",
      " [1, 1, 1, 1, 1]\n"
     ]
    }
   ],
   "source": [
    "groups_tmp = collections.Counter()\n",
    "print(type(groups_tmp))\n",
    "cols_group_division = []\n",
    "for col_index in cols_order:\n",
    "    groups_tmp[str_cols_unordered_list[col_index]] += 1\n",
    "    if (groups_tmp[str_cols_unordered_list[col_index]] == 1):\n",
    "        cols_group_division.append(1)\n",
    "    else:\n",
    "        cols_group_division[-1] += 1\n",
    "print('cols_group_division:\\n', cols_group_division)"
   ]
  },
  {
   "cell_type": "code",
   "execution_count": 51,
   "metadata": {},
   "outputs": [
    {
     "name": "stdout",
     "output_type": "stream",
     "text": [
      "group sorted matrix:\n",
      " [[0 3 2 1 5]\n",
      " [0 1 2 5 3]\n",
      " [0 3 3 6 4]\n",
      " [0 3 4 6 3]\n",
      " [1 1 1 6 6]\n",
      " [2 1 1 6 6]]\n",
      "group_division:  [(2, 1), (2, 1), (1, 1), (1, 1), (0, 1)]\n"
     ]
    }
   ],
   "source": [
    "group_division = []\n",
    "max_group_count = max(len(cols_group_division), len(rows_group_division))\n",
    "for i in range(max_group_count):\n",
    "    rows_count = cols_count = 0\n",
    "    if i < len(rows_group_division):\n",
    "        rows_count = rows_group_division[i]\n",
    "    if i < len(cols_group_division):\n",
    "        cols_count = cols_group_division[i]\n",
    "    group_division.append((rows_count, cols_count))\n",
    "group_sorted_matrix = cols_ordered\n",
    "print('group sorted matrix:\\n', group_sorted_matrix)\n",
    "print('group_division: ', group_division)"
   ]
  },
  {
   "cell_type": "code",
   "execution_count": null,
   "metadata": {},
   "outputs": [],
   "source": []
  }
 ],
 "metadata": {
  "kernelspec": {
   "display_name": "Python 3",
   "language": "python",
   "name": "python3"
  },
  "language_info": {
   "codemirror_mode": {
    "name": "ipython",
    "version": 3
   },
   "file_extension": ".py",
   "mimetype": "text/x-python",
   "name": "python",
   "nbconvert_exporter": "python",
   "pygments_lexer": "ipython3",
   "version": "3.8.5"
  }
 },
 "nbformat": 4,
 "nbformat_minor": 4
}
